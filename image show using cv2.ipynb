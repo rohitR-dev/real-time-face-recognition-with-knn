{
 "cells": [
  {
   "cell_type": "raw",
   "id": "59235f58",
   "metadata": {},
   "source": [
    "#simple program to read and show an image"
   ]
  },
  {
   "cell_type": "code",
   "execution_count": 5,
   "id": "2fd97b50",
   "metadata": {},
   "outputs": [],
   "source": [
    "import cv2"
   ]
  },
  {
   "cell_type": "code",
   "execution_count": 15,
   "id": "e96f4542",
   "metadata": {},
   "outputs": [],
   "source": [
    "img = cv2.imread(\"image_folder/city.jpg\")"
   ]
  },
  {
   "cell_type": "code",
   "execution_count": 16,
   "id": "5b25365c",
   "metadata": {},
   "outputs": [],
   "source": [
    "# Resize the image to a smaller size (e.g., 50% of the original)\n",
    "width = int(img.shape[1] * 0.5)  # 50% of the original width\n",
    "height = int(img.shape[0] * 0.5)  # 50% of the original height\n",
    "dim = (width, height)\n",
    "\n",
    "# Resize image\n",
    "resized_img = cv2.resize(img, dim, interpolation=cv2.INTER_AREA)"
   ]
  },
  {
   "cell_type": "code",
   "execution_count": 22,
   "id": "4bd0881e",
   "metadata": {},
   "outputs": [],
   "source": [
    "cv2.imshow('City', resized_img)\n",
    "cv2.waitKey(0)    # program will stop when any key is pressed\n",
    "cv2.destroyAllWindows()"
   ]
  },
  {
   "cell_type": "code",
   "execution_count": 31,
   "id": "b5eb1430",
   "metadata": {},
   "outputs": [],
   "source": [
    "#different color mode\n",
    "\n",
    "gray = cv2.imread(\"image_folder/city.jpg\",cv2.IMREAD_GRAYSCALE)"
   ]
  },
  {
   "cell_type": "code",
   "execution_count": 32,
   "id": "fb592563",
   "metadata": {},
   "outputs": [],
   "source": [
    "width = int(img.shape[1] * 0.5)  # 50% of the original width\n",
    "height = int(img.shape[0] * 0.5)  # 50% of the original height\n",
    "dim = (width, height)\n",
    "\n",
    "# Use cv2.resize to resize the grayscale image\n",
    "resized_gray = cv2.resize(gray, dim, interpolation=cv2.INTER_AREA)"
   ]
  },
  {
   "cell_type": "code",
   "execution_count": 33,
   "id": "6f0e41a1",
   "metadata": {},
   "outputs": [],
   "source": [
    "cv2.imshow(\"gray city\",resized_gray)\n",
    "cv2.waitKey(0)\n",
    "cv2.destroyAllWindows()"
   ]
  },
  {
   "cell_type": "code",
   "execution_count": null,
   "id": "2929e8d6",
   "metadata": {},
   "outputs": [],
   "source": []
  }
 ],
 "metadata": {
  "kernelspec": {
   "display_name": "Python 3 (ipykernel)",
   "language": "python",
   "name": "python3"
  },
  "language_info": {
   "codemirror_mode": {
    "name": "ipython",
    "version": 3
   },
   "file_extension": ".py",
   "mimetype": "text/x-python",
   "name": "python",
   "nbconvert_exporter": "python",
   "pygments_lexer": "ipython3",
   "version": "3.11.5"
  }
 },
 "nbformat": 4,
 "nbformat_minor": 5
}
