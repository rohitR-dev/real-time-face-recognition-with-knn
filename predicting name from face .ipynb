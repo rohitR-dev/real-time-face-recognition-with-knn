{
 "cells": [
  {
   "cell_type": "code",
   "execution_count": 5,
   "id": "5396275f",
   "metadata": {},
   "outputs": [],
   "source": [
    "import cv2\n",
    "import numpy as np\n",
    "import os"
   ]
  },
  {
   "cell_type": "code",
   "execution_count": 6,
   "id": "c1c67847",
   "metadata": {},
   "outputs": [],
   "source": [
    "import numpy as np\n",
    "\n",
    "def distance(x1, x2):\n",
    "    return np.sqrt(sum((x1 - x2) ** 2))\n",
    "\n",
    "def knn(train, test, k=5):\n",
    "    dist = []\n",
    "    \n",
    "    for i in range(train.shape[0]):\n",
    "        #get vector and label\n",
    "        ix = train[i, :-1]\n",
    "        iy = train[i, -1]\n",
    "        #compute distance from test point\n",
    "        d = distance(test,ix)\n",
    "        dist.append([d,iy])\n",
    "        \n",
    "\n",
    "    # Sort vals based on the distance (first element of the tuple)\n",
    "    dk = sorted(dist, key=lambda x: x[0])[:k]  # Get the nearest k points\n",
    "    \n",
    "    # Extract only the labels of the nearest neighbors\n",
    "    labels = np.array(dk)[:,-1]\n",
    "\n",
    "    # Use Counter to count the frequency of each label\n",
    "    output = np.unique(labels,return_counts = True)\n",
    "    index = np.argmax(output[1])  \n",
    "    \n",
    "    return output[0][index]\n"
   ]
  },
  {
   "cell_type": "code",
   "execution_count": 7,
   "id": "4b30b933",
   "metadata": {},
   "outputs": [
    {
     "name": "stdout",
     "output_type": "stream",
     "text": [
      "(12, 30001)\n"
     ]
    }
   ],
   "source": [
    "cap = cv2.VideoCapture(0)\n",
    "face_cascade = cv2.CascadeClassifier(\"haarcascade_frontalface_alt.xml\")\n",
    "dataset_path = r\"C:\\Users\\rohit\\Jupyter-cn\\ml\\real time face recognition with knn\\selfies_training_data\" \n",
    "skip = 0\n",
    "face_data = []\n",
    "labels = []\n",
    "\n",
    "class_id = 0 #label for given file\n",
    "names = {} #mapping btw id - name\n",
    "\n",
    "#data preparation\n",
    "\n",
    "for fx in os.listdir(dataset_path):\n",
    "    if fx.endswith('.npy'):\n",
    "        \n",
    "        #create mapping btw class_id and name\n",
    "        names[class_id] = fx[1:-4]\n",
    "        data_item = np.load(dataset_path+\"\\\\\"+fx)\n",
    "        face_data.append(data_item)\n",
    "        \n",
    "        #create labels for the class\n",
    "        target = class_id*np.ones((data_item.shape[0],))\n",
    "        class_id +=1\n",
    "        labels.append(target)\n",
    "\n",
    "face_dataset = np.concatenate(face_data,axis=0)\n",
    "face_labels = np.concatenate(labels,axis=0).reshape((-1,1))\n",
    "\n",
    "trainset = np.concatenate((face_dataset,face_labels),axis=1)\n",
    "print(trainset.shape)\n",
    "\n",
    "\n",
    "    \n"
   ]
  },
  {
   "cell_type": "code",
   "execution_count": 8,
   "id": "756c1e94",
   "metadata": {},
   "outputs": [],
   "source": [
    "while True:\n",
    "    ret, frame = cap.read()\n",
    "    if not ret:\n",
    "        continue\n",
    "\n",
    "    faces = face_cascade.detectMultiScale(frame, 1.3, 5)\n",
    "\n",
    "    for (x, y, w, h) in faces:\n",
    "        # Get the face region of interest\n",
    "        offset = 10\n",
    "        face_section = frame[y-offset:y+h+offset, x-offset:x+w+offset]\n",
    "        face_section = cv2.resize(face_section, (100, 100))\n",
    "\n",
    "        out = knn(trainset, face_section.flatten())\n",
    "\n",
    "        # Display the name and rectangle around the face\n",
    "        pred_name = names[int(out)]\n",
    "        cv2.putText(frame, pred_name, (x, y-10), cv2.FONT_HERSHEY_SIMPLEX, 1, (255, 0, 0), 2, cv2.LINE_AA)\n",
    "        cv2.rectangle(frame, (x, y), (x+w, y+h), (0, 255, 255), 2)\n",
    "\n",
    "    cv2.imshow(\"Faces\", frame)\n",
    "\n",
    "    key = cv2.waitKey(1) & 0xFF\n",
    "    if key == ord('q'):\n",
    "        break\n",
    "\n",
    "cap.release()\n",
    "cv2.destroyAllWindows()\n"
   ]
  },
  {
   "cell_type": "code",
   "execution_count": null,
   "id": "67b658ce",
   "metadata": {},
   "outputs": [],
   "source": []
  }
 ],
 "metadata": {
  "kernelspec": {
   "display_name": "Python 3 (ipykernel)",
   "language": "python",
   "name": "python3"
  },
  "language_info": {
   "codemirror_mode": {
    "name": "ipython",
    "version": 3
   },
   "file_extension": ".py",
   "mimetype": "text/x-python",
   "name": "python",
   "nbconvert_exporter": "python",
   "pygments_lexer": "ipython3",
   "version": "3.11.5"
  }
 },
 "nbformat": 4,
 "nbformat_minor": 5
}
