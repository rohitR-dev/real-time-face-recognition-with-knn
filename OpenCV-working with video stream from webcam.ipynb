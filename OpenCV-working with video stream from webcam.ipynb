{
 "cells": [
  {
   "cell_type": "markdown",
   "id": "f9089249",
   "metadata": {},
   "source": [
    "# Read a video stream from camera (frame by frame)\n",
    "\n",
    "video-> series of frame\n",
    "frame-> each frame is a image"
   ]
  },
  {
   "cell_type": "code",
   "execution_count": 1,
   "id": "ec9a8d16",
   "metadata": {},
   "outputs": [],
   "source": [
    "import cv2"
   ]
  },
  {
   "cell_type": "code",
   "execution_count": 2,
   "id": "e20a3b0a",
   "metadata": {},
   "outputs": [],
   "source": [
    "cap = cv2.VideoCapture(0)   #VideoCapture(id) 0 is default web cam\n",
    "while True:\n",
    "    ret,frame=cap.read()   # return two values boolean and frame that has been captured  if bool is false means frame is not captured properly\n",
    "    if ret==False:\n",
    "        continue\n",
    "    \n",
    "    cv2.imshow(\"Video Frame\",frame)\n",
    "    \n",
    "    #wait for user input - q,then you will stop the loop\n",
    "    key_pressed = cv2.waitKey(1) & 0xFF  # 0-255 is 8bit integer ||| cv2.waitKey will give 32 bit integer and 0xFF is integer having 8 ones (11111111)\n",
    "                                         # if we do and of a 32 bit number with a number having just 8 ones then we will get last 8 bits\n",
    "    if key_pressed == ord('q'):\n",
    "        break\n",
    "\n",
    "cap.release()\n",
    "cv2.destroyAllWindows()\n"
   ]
  },
  {
   "cell_type": "code",
   "execution_count": 3,
   "id": "e91f939e",
   "metadata": {},
   "outputs": [],
   "source": [
    "cap = cv2.VideoCapture(0)   #VideoCapture(id) 0 is default web cam\n",
    "while True:\n",
    "    ret,frame=cap.read()   # return two values boolean and frame that has been captured  if bool is false means frame is not captured properly\n",
    "    gray_frame = cv2.cvtColor(frame,cv2.COLOR_BGR2GRAY)\n",
    "    \n",
    "    if ret==False:\n",
    "        continue\n",
    "    \n",
    "    cv2.imshow(\"Video Frame\",frame)\n",
    "    cv2.imshow(\"Gray Frame\",gray_frame)\n",
    "    \n",
    "    #wait for user input - q,then you will stop the loop\n",
    "    key_pressed = cv2.waitKey(1) & 0xFF  # 0-255 is 8bit integer ||| cv2.waitKey will give 32 bit integer and 0xFF is integer having 8 ones (11111111)\n",
    "                                         # if we do and of a 32 bit number with a number having just 8 ones then we will get last 8 bits\n",
    "    if key_pressed == ord('q'):\n",
    "        break\n",
    "\n",
    "cap.release()\n",
    "cv2.destroyAllWindows()"
   ]
  },
  {
   "cell_type": "code",
   "execution_count": null,
   "id": "2510c60b",
   "metadata": {},
   "outputs": [],
   "source": []
  }
 ],
 "metadata": {
  "kernelspec": {
   "display_name": "Python 3 (ipykernel)",
   "language": "python",
   "name": "python3"
  },
  "language_info": {
   "codemirror_mode": {
    "name": "ipython",
    "version": 3
   },
   "file_extension": ".py",
   "mimetype": "text/x-python",
   "name": "python",
   "nbconvert_exporter": "python",
   "pygments_lexer": "ipython3",
   "version": "3.11.5"
  }
 },
 "nbformat": 4,
 "nbformat_minor": 5
}
