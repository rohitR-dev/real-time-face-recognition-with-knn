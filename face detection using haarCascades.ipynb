{
 "cells": [
  {
   "cell_type": "raw",
   "id": "a23b50f2",
   "metadata": {},
   "source": [
    "harcascade classifier --> pretrained model\n",
    "\n",
    "face detection + classify[knn]\n",
    "\n",
    "haarcascade_frontalface_alt.xml --> data about faces"
   ]
  },
  {
   "cell_type": "code",
   "execution_count": 1,
   "id": "2c59b402",
   "metadata": {},
   "outputs": [],
   "source": [
    "import cv2"
   ]
  },
  {
   "cell_type": "code",
   "execution_count": 4,
   "id": "f3b12248",
   "metadata": {},
   "outputs": [],
   "source": [
    "cap = cv2.VideoCapture(0)   #VideoCapture(id) 0 is default web cam\n",
    "face_cascade = cv2.CascadeClassifier(\"haarcascade_frontalface_alt.xml\")\n",
    "while True:\n",
    "    ret,frame=cap.read()   # return two values boolean and frame that has been captured  if bool is false means frame is not captured properly\n",
    "    if ret==False:\n",
    "        continue\n",
    "    \n",
    "    # Detect faces in the frame\n",
    "    faces = face_cascade.detectMultiScale(frame,1.3,5)  #(frmae,scalingFactor,NoOfNeighbour)\n",
    "    \n",
    "    # Draw rectangle around each face\n",
    "    for (x,y,w,h) in faces:\n",
    "        cv2.rectangle(frame,(x,y),(x+w,y+h),(255,0,0),2)\n",
    "    \n",
    "    #Show the frame with detected faces\n",
    "    cv2.imshow(\"Video Frame\",frame)\n",
    "    \n",
    "    #wait for user input - q,then you will stop the loop\n",
    "    key_pressed = cv2.waitKey(1) & 0xFF  # 0-255 is 8bit integer ||| cv2.waitKey will give 32 bit integer and 0xFF is integer having 8 ones (11111111)\n",
    "                                         # if we do and of a 32 bit number with a number having just 8 ones then we will get last 8 bits\n",
    "    if key_pressed == ord('q'):\n",
    "        break\n",
    "\n",
    "cap.release()\n",
    "cv2.destroyAllWindows()\n"
   ]
  },
  {
   "cell_type": "code",
   "execution_count": null,
   "id": "9713ff27",
   "metadata": {},
   "outputs": [],
   "source": []
  }
 ],
 "metadata": {
  "kernelspec": {
   "display_name": "Python 3 (ipykernel)",
   "language": "python",
   "name": "python3"
  },
  "language_info": {
   "codemirror_mode": {
    "name": "ipython",
    "version": 3
   },
   "file_extension": ".py",
   "mimetype": "text/x-python",
   "name": "python",
   "nbconvert_exporter": "python",
   "pygments_lexer": "ipython3",
   "version": "3.11.5"
  }
 },
 "nbformat": 4,
 "nbformat_minor": 5
}
